{
 "cells": [
  {
   "cell_type": "code",
   "execution_count": 1,
   "metadata": {},
   "outputs": [],
   "source": [
    "import pandas as pd"
   ]
  },
  {
   "cell_type": "code",
   "execution_count": 2,
   "metadata": {},
   "outputs": [],
   "source": [
    "installs = pd.read_csv(\"installs.csv\", low_memory = False)"
   ]
  },
  {
   "cell_type": "code",
   "execution_count": 3,
   "metadata": {},
   "outputs": [
    {
     "data": {
      "text/plain": [
       "Index(['created', 'application_id', 'ref_type', 'ref_hash', 'click_hash',\n",
       "       'attributed', 'implicit', 'device_countrycode', 'device_brand',\n",
       "       'device_model', 'session_user_agent', 'user_agent', 'event_uuid',\n",
       "       'kind', 'wifi', 'trans_id', 'ip_address', 'device_language'],\n",
       "      dtype='object')"
      ]
     },
     "execution_count": 3,
     "metadata": {},
     "output_type": "execute_result"
    }
   ],
   "source": [
    "installs.columns"
   ]
  },
  {
   "cell_type": "code",
   "execution_count": 5,
   "metadata": {},
   "outputs": [
    {
     "data": {
      "text/plain": [
       "True     1377\n",
       "False     352\n",
       "Name: wifi, dtype: int64"
      ]
     },
     "execution_count": 5,
     "metadata": {},
     "output_type": "execute_result"
    }
   ],
   "source": [
    "installs['wifi'].value_counts()"
   ]
  },
  {
   "cell_type": "code",
   "execution_count": 7,
   "metadata": {
    "scrolled": true
   },
   "outputs": [
    {
     "data": {
      "text/plain": [
       "3.301378e+18    1484\n",
       "9.028383e+18     714\n",
       "4.621024e+18     632\n",
       "6.977049e+18     238\n",
       "4.077062e+17      70\n",
       "1.526421e+18      56\n",
       "4.060930e+18      48\n",
       "2.822843e+17      39\n",
       "6.035180e+18      24\n",
       "1.193279e+18      21\n",
       "6.535228e+18      10\n",
       "1.101539e+17       9\n",
       "3.177265e+18       5\n",
       "3.695787e+17       5\n",
       "3.095856e+18       4\n",
       "6.569908e+18       2\n",
       "5.846217e+18       2\n",
       "7.774316e+18       2\n",
       "4.594650e+18       2\n",
       "6.782349e+18       1\n",
       "5.061642e+18       1\n",
       "1.686906e+18       1\n",
       "5.794427e+17       1\n",
       "2.488366e+18       1\n",
       "3.544544e+18       1\n",
       "3.074904e+18       1\n",
       "2.061937e+18       1\n",
       "4.073835e+18       1\n",
       "6.846873e+18       1\n",
       "7.045130e+18       1\n",
       "Name: device_language, dtype: int64"
      ]
     },
     "execution_count": 7,
     "metadata": {},
     "output_type": "execute_result"
    }
   ],
   "source": [
    "installs['device_language'].value_counts()\n",
    "##los 3 idiomas donde mas instalan publicidad(los 3idiomas donde hay gente mas corki)"
   ]
  },
  {
   "cell_type": "code",
   "execution_count": 8,
   "metadata": {},
   "outputs": [
    {
     "data": {
      "text/plain": [
       "6333597102633388268    1820\n",
       "2970470518450881158    1592\n",
       "Name: device_countrycode, dtype: int64"
      ]
     },
     "execution_count": 8,
     "metadata": {},
     "output_type": "execute_result"
    }
   ],
   "source": [
    "installs['device_countrycode'].value_counts()\n",
    "##hay solo 2paises donde se instalan cosas"
   ]
  }
 ],
 "metadata": {
  "kernelspec": {
   "display_name": "Python 3",
   "language": "python",
   "name": "python3"
  },
  "language_info": {
   "codemirror_mode": {
    "name": "ipython",
    "version": 3
   },
   "file_extension": ".py",
   "mimetype": "text/x-python",
   "name": "python",
   "nbconvert_exporter": "python",
   "pygments_lexer": "ipython3",
   "version": "3.7.0"
  }
 },
 "nbformat": 4,
 "nbformat_minor": 2
}
