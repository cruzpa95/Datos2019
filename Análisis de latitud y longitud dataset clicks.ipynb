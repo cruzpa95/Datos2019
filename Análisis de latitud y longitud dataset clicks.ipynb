{
 "cells": [
  {
   "cell_type": "code",
   "execution_count": 2,
   "metadata": {},
   "outputs": [],
   "source": [
    "import pandas as pd\n",
    "import matplotlib.pyplot as plt\n",
    "import seaborn as sns\n",
    "pd.options.display.float_format = '{:.16f}'.format"
   ]
  },
  {
   "cell_type": "code",
   "execution_count": 5,
   "metadata": {},
   "outputs": [],
   "source": [
    "clicks = pd.read_csv('../data/clicks.csv')"
   ]
  },
  {
   "cell_type": "code",
   "execution_count": 6,
   "metadata": {},
   "outputs": [
    {
     "name": "stdout",
     "output_type": "stream",
     "text": [
      "<class 'pandas.core.frame.DataFrame'>\n",
      "RangeIndex: 26351 entries, 0 to 26350\n",
      "Data columns (total 2 columns):\n",
      "latitude     26351 non-null float64\n",
      "longitude    26351 non-null float64\n",
      "dtypes: float64(2)\n",
      "memory usage: 411.8 KB\n"
     ]
    }
   ],
   "source": [
    "coordenadas = clicks.loc[:,['latitude', 'longitude']]\n",
    "coordenadas.info()"
   ]
  },
  {
   "cell_type": "code",
   "execution_count": 7,
   "metadata": {},
   "outputs": [
    {
     "data": {
      "text/html": [
       "<div>\n",
       "<style scoped>\n",
       "    .dataframe tbody tr th:only-of-type {\n",
       "        vertical-align: middle;\n",
       "    }\n",
       "\n",
       "    .dataframe tbody tr th {\n",
       "        vertical-align: top;\n",
       "    }\n",
       "\n",
       "    .dataframe thead th {\n",
       "        text-align: right;\n",
       "    }\n",
       "</style>\n",
       "<table border=\"1\" class=\"dataframe\">\n",
       "  <thead>\n",
       "    <tr style=\"text-align: right;\">\n",
       "      <th></th>\n",
       "      <th>latitude</th>\n",
       "      <th>longitude</th>\n",
       "    </tr>\n",
       "  </thead>\n",
       "  <tbody>\n",
       "    <tr>\n",
       "      <th>0</th>\n",
       "      <td>1.2056887519199482</td>\n",
       "      <td>1.0702342714774236</td>\n",
       "    </tr>\n",
       "    <tr>\n",
       "      <th>1</th>\n",
       "      <td>1.2189237334319261</td>\n",
       "      <td>1.0712090638488148</td>\n",
       "    </tr>\n",
       "    <tr>\n",
       "      <th>2</th>\n",
       "      <td>1.2056887519199482</td>\n",
       "      <td>1.0702342714774236</td>\n",
       "    </tr>\n",
       "    <tr>\n",
       "      <th>3</th>\n",
       "      <td>1.2056887519199482</td>\n",
       "      <td>1.0702342714774236</td>\n",
       "    </tr>\n",
       "    <tr>\n",
       "      <th>4</th>\n",
       "      <td>1.2056887519199482</td>\n",
       "      <td>1.0702342714774236</td>\n",
       "    </tr>\n",
       "  </tbody>\n",
       "</table>\n",
       "</div>"
      ],
      "text/plain": [
       "            latitude          longitude\n",
       "0 1.2056887519199482 1.0702342714774236\n",
       "1 1.2189237334319261 1.0712090638488148\n",
       "2 1.2056887519199482 1.0702342714774236\n",
       "3 1.2056887519199482 1.0702342714774236\n",
       "4 1.2056887519199482 1.0702342714774236"
      ]
     },
     "execution_count": 7,
     "metadata": {},
     "output_type": "execute_result"
    }
   ],
   "source": [
    "coordenadas.head()"
   ]
  },
  {
   "cell_type": "code",
   "execution_count": 8,
   "metadata": {},
   "outputs": [
    {
     "data": {
      "text/plain": [
       "False    26351\n",
       "dtype: int64"
      ]
     },
     "execution_count": 8,
     "metadata": {},
     "output_type": "execute_result"
    }
   ],
   "source": [
    "(coordenadas['latitude'] == coordenadas['longitude']).value_counts()"
   ]
  },
  {
   "cell_type": "markdown",
   "metadata": {},
   "source": [
    "No hay ninguna latitud que tenga el mismo hash que una longitud. Entonces se tomará una tercera coordenada que se llamará 'punto' y resultará de la suma de 'latitud' + 'longitud', para luego hacer un value_counts() y determinar cuántos clicks se realizaron desde una misma posición."
   ]
  },
  {
   "cell_type": "code",
   "execution_count": 9,
   "metadata": {},
   "outputs": [
    {
     "data": {
      "text/html": [
       "<div>\n",
       "<style scoped>\n",
       "    .dataframe tbody tr th:only-of-type {\n",
       "        vertical-align: middle;\n",
       "    }\n",
       "\n",
       "    .dataframe tbody tr th {\n",
       "        vertical-align: top;\n",
       "    }\n",
       "\n",
       "    .dataframe thead th {\n",
       "        text-align: right;\n",
       "    }\n",
       "</style>\n",
       "<table border=\"1\" class=\"dataframe\">\n",
       "  <thead>\n",
       "    <tr style=\"text-align: right;\">\n",
       "      <th></th>\n",
       "      <th>punto</th>\n",
       "      <th>latitude</th>\n",
       "    </tr>\n",
       "  </thead>\n",
       "  <tbody>\n",
       "    <tr>\n",
       "      <th>0</th>\n",
       "      <td>2.2759230233973717</td>\n",
       "      <td>22949</td>\n",
       "    </tr>\n",
       "    <tr>\n",
       "      <th>1</th>\n",
       "      <td>2.2901327972807408</td>\n",
       "      <td>1105</td>\n",
       "    </tr>\n",
       "    <tr>\n",
       "      <th>2</th>\n",
       "      <td>2.2991429227626834</td>\n",
       "      <td>281</td>\n",
       "    </tr>\n",
       "    <tr>\n",
       "      <th>3</th>\n",
       "      <td>2.2826314876863787</td>\n",
       "      <td>250</td>\n",
       "    </tr>\n",
       "    <tr>\n",
       "      <th>4</th>\n",
       "      <td>2.2776833447550295</td>\n",
       "      <td>186</td>\n",
       "    </tr>\n",
       "    <tr>\n",
       "      <th>5</th>\n",
       "      <td>2.2823900257028971</td>\n",
       "      <td>171</td>\n",
       "    </tr>\n",
       "    <tr>\n",
       "      <th>6</th>\n",
       "      <td>2.2832941839004537</td>\n",
       "      <td>100</td>\n",
       "    </tr>\n",
       "    <tr>\n",
       "      <th>7</th>\n",
       "      <td>2.2765502501467623</td>\n",
       "      <td>90</td>\n",
       "    </tr>\n",
       "    <tr>\n",
       "      <th>8</th>\n",
       "      <td>2.2750451505734146</td>\n",
       "      <td>85</td>\n",
       "    </tr>\n",
       "    <tr>\n",
       "      <th>9</th>\n",
       "      <td>2.2765195722529232</td>\n",
       "      <td>83</td>\n",
       "    </tr>\n",
       "  </tbody>\n",
       "</table>\n",
       "</div>"
      ],
      "text/plain": [
       "               punto  latitude\n",
       "0 2.2759230233973717     22949\n",
       "1 2.2901327972807408      1105\n",
       "2 2.2991429227626834       281\n",
       "3 2.2826314876863787       250\n",
       "4 2.2776833447550295       186\n",
       "5 2.2823900257028971       171\n",
       "6 2.2832941839004537       100\n",
       "7 2.2765502501467623        90\n",
       "8 2.2750451505734146        85\n",
       "9 2.2765195722529232        83"
      ]
     },
     "execution_count": 9,
     "metadata": {},
     "output_type": "execute_result"
    }
   ],
   "source": [
    "coordenadas['punto'] = coordenadas['latitude'] + coordenadas['longitude']\n",
    "top = coordenadas.groupby('punto').count().sort_values(ascending=False, by='latitude').head(10)['latitude'].reset_index()\n",
    "top"
   ]
  },
  {
   "cell_type": "code",
   "execution_count": 10,
   "metadata": {},
   "outputs": [],
   "source": [
    "top10 = coordenadas[coordenadas['punto'] == 2.2759230233973717].drop_duplicates()\n",
    "top10 = top10.append(coordenadas[coordenadas['punto'] == 2.2901327972807408].drop_duplicates()) \n",
    "top10 = top10.append(coordenadas[coordenadas['punto'] == 2.2991429227626834].drop_duplicates()) \n",
    "top10 = top10.append(coordenadas[coordenadas['punto'] == 2.2826314876863787].drop_duplicates())\n",
    "top10 = top10.append(coordenadas[coordenadas['punto'] == 2.2776833447550295].drop_duplicates()) \n",
    "top10 = top10.append(coordenadas[coordenadas['punto'] == 2.2823900257028971].drop_duplicates()) \n",
    "top10 = top10.append(coordenadas[coordenadas['punto'] == 2.2832941839004537].drop_duplicates()) \n",
    "top10 = top10.append(coordenadas[coordenadas['punto'] == 2.2765502501467623].drop_duplicates()) \n",
    "top10 = top10.append(coordenadas[coordenadas['punto'] == 2.2750451505734146].drop_duplicates()) \n",
    "top10 = top10.append(coordenadas[coordenadas['punto'] == 2.2765195722529232].drop_duplicates()) \n",
    "top10 = top10.reset_index()\n",
    "del top10['index']\n",
    "top10['cantidad'] = top['latitude']"
   ]
  },
  {
   "cell_type": "code",
   "execution_count": 17,
   "metadata": {},
   "outputs": [
    {
     "data": {
      "image/png": "[encoded data removed]",
      "text/plain": [
       "<Figure size 720x720 with 1 Axes>"
      ]
     },
     "metadata": {
      "needs_background": "light"
     },
     "output_type": "display_data"
    }
   ],
   "source": [
    "import matplotlib.pyplot as plt\n",
    "import numpy as np\n",
    "plt.figure(figsize=(10,10))\n",
    "plt.scatter(top10.latitude, top10.longitude, s=top10.cantidad, c=\"red\", alpha=0.4)\n",
    "plt.xlabel('latitudes',fontsize=16)\n",
    "plt.ylabel('longitudes',fontsize=16)\n",
    "plt.title('Top de las 10 latitudes y longitudes (puntos) con más clicks', fontsize=20)\n",
    "\n",
    "plt.show()"
   ]
  },
  {
   "cell_type": "markdown",
   "metadata": {},
   "source": [
    "El área de cada burbuja representa la cantidad de veces que se registró un click desde un mismo punto. Como los puntos están muy cerca y hay un punto que concentra la gran mayoría de los clicks, éste engloba a todos los demás. Es por ello, que para que se note la diferencia de área (de cantidad de clicks) se decide por separar las burbujas, moviendolas sobre el eje x."
   ]
  },
  {
   "cell_type": "code",
   "execution_count": 18,
   "metadata": {},
   "outputs": [],
   "source": [
    "top10 = coordenadas[coordenadas['punto'] == 2.2759230233973717].drop_duplicates()\n",
    "top10 = top10.append(coordenadas[coordenadas['punto'] == 2.2901327972807408].drop_duplicates()) \n",
    "top10 = top10.append(coordenadas[coordenadas['punto'] == 2.2991429227626834].drop_duplicates()) \n",
    "top10 = top10.append(coordenadas[coordenadas['punto'] == 2.2826314876863787].drop_duplicates())\n",
    "top10 = top10.append(coordenadas[coordenadas['punto'] == 2.2776833447550295].drop_duplicates()) \n",
    "top10 = top10.append(coordenadas[coordenadas['punto'] == 2.2823900257028971].drop_duplicates()) \n",
    "top10 = top10.append(coordenadas[coordenadas['punto'] == 2.2832941839004537].drop_duplicates()) \n",
    "top10 = top10.append(coordenadas[coordenadas['punto'] == 2.2765502501467623].drop_duplicates()) \n",
    "top10 = top10.append(coordenadas[coordenadas['punto'] == 2.2750451505734146].drop_duplicates()) \n",
    "top10 = top10.append(coordenadas[coordenadas['punto'] == 2.2765195722529232].drop_duplicates()) \n",
    "top10 = top10.reset_index()\n",
    "del top10['index']\n",
    "top10['cantidad'] = top['latitude']\n",
    "top10.loc[0, 'latitude'] = top10.loc[0, 'latitude'] - 0.90\n",
    "top10.loc[1, 'latitude'] = top10.loc[1, 'latitude'] - 0.70\n",
    "top10.loc[2, 'latitude'] = top10.loc[2, 'latitude'] - 0.60\n",
    "top10.loc[3, 'latitude'] = top10.loc[3, 'latitude'] - 0.50\n",
    "top10.loc[4, 'latitude'] = top10.loc[4, 'latitude'] - 0.40\n",
    "top10.loc[5, 'latitude'] = top10.loc[5, 'latitude'] - 0.30\n",
    "top10.loc[6, 'latitude'] = top10.loc[6, 'latitude'] - 0.20\n",
    "top10.loc[7, 'latitude'] = top10.loc[7, 'latitude'] - 0.10\n",
    "top10.loc[8, 'latitude'] = top10.loc[8, 'latitude'] - 0.05"
   ]
  },
  {
   "cell_type": "code",
   "execution_count": 20,
   "metadata": {},
   "outputs": [
    {
     "data": {
      "image/png": "[encoded data removed]",
      "text/plain": [
       "<Figure size 720x720 with 1 Axes>"
      ]
     },
     "metadata": {
      "needs_background": "light"
     },
     "output_type": "display_data"
    }
   ],
   "source": [
    "import matplotlib.pyplot as plt\n",
    "import numpy as np\n",
    "plt.figure(figsize=(10,10))\n",
    "plt.scatter(top10.latitude, top10.longitude, s=top10.cantidad, c=\"red\", alpha=0.4)\n",
    "plt.xlabel('latitudes transformadas',fontsize=16)\n",
    "plt.ylabel('longitudes transformadas',fontsize=16)\n",
    "plt.title('Top de las 10 latitudes y longitudes (puntos) con más clicks', fontsize=20)\n",
    "plt.show()"
   ]
  },
  {
   "cell_type": "markdown",
   "metadata": {},
   "source": [
    "Luego de la transformación aplicada, resulta el siguiente gráfico en el que se puede ver claramente que hay una burbuja que supera ampliamente a las demás en área. Se supone al igual que en el gráfico \"Top de las 10 ciudades con más eventos\", que ésta sería la capital."
   ]
  },
  {
   "cell_type": "code",
   "execution_count": null,
   "metadata": {},
   "outputs": [],
   "source": []
  }
 ],
 "metadata": {
  "kernelspec": {
   "display_name": "Python 3",
   "language": "python",
   "name": "python3"
  },
  "language_info": {
   "codemirror_mode": {
    "name": "ipython",
    "version": 3
   },
   "file_extension": ".py",
   "mimetype": "text/x-python",
   "name": "python",
   "nbconvert_exporter": "python",
   "pygments_lexer": "ipython3",
   "version": "3.7.0"
  }
 },
 "nbformat": 4,
 "nbformat_minor": 2
}
