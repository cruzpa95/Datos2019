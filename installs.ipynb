{
 "cells": [
  {
   "cell_type": "code",
   "execution_count": 1,
   "metadata": {},
   "outputs": [],
   "source": [
    "import pandas as pd"
   ]
  },
  {
   "cell_type": "code",
   "execution_count": 2,
   "metadata": {},
   "outputs": [],
   "source": [
    "installs = pd.read_csv(\"installs.csv\", low_memory = False)"
   ]
  },
  {
   "cell_type": "code",
   "execution_count": 3,
   "metadata": {},
   "outputs": [
    {
     "data": {
      "text/plain": [
       "Index(['created', 'application_id', 'ref_type', 'ref_hash', 'click_hash',\n",
       "       'attributed', 'implicit', 'device_countrycode', 'device_brand',\n",
       "       'device_model', 'session_user_agent', 'user_agent', 'event_uuid',\n",
       "       'kind', 'wifi', 'trans_id', 'ip_address', 'device_language'],\n",
       "      dtype='object')"
      ]
     },
     "execution_count": 3,
     "metadata": {},
     "output_type": "execute_result"
    }
   ],
   "source": [
    "installs.columns"
   ]
  },
  {
   "cell_type": "code",
   "execution_count": 5,
   "metadata": {},
   "outputs": [
    {
     "data": {
      "text/plain": [
       "True     1377\n",
       "False     352\n",
       "Name: wifi, dtype: int64"
      ]
     },
     "execution_count": 5,
     "metadata": {},
     "output_type": "execute_result"
    }
   ],
   "source": [
    "installs['wifi'].value_counts()"
   ]
  },
  {
   "cell_type": "code",
   "execution_count": 7,
   "metadata": {
    "scrolled": true
   },
   "outputs": [
    {
     "data": {
      "text/plain": [
       "3.301378e+18    1484\n",
       "9.028383e+18     714\n",
       "4.621024e+18     632\n",
       "6.977049e+18     238\n",
       "4.077062e+17      70\n",
       "1.526421e+18      56\n",
       "4.060930e+18      48\n",
       "2.822843e+17      39\n",
       "6.035180e+18      24\n",
       "1.193279e+18      21\n",
       "6.535228e+18      10\n",
       "1.101539e+17       9\n",
       "3.177265e+18       5\n",
       "3.695787e+17       5\n",
       "3.095856e+18       4\n",
       "6.569908e+18       2\n",
       "5.846217e+18       2\n",
       "7.774316e+18       2\n",
       "4.594650e+18       2\n",
       "6.782349e+18       1\n",
       "5.061642e+18       1\n",
       "1.686906e+18       1\n",
       "5.794427e+17       1\n",
       "2.488366e+18       1\n",
       "3.544544e+18       1\n",
       "3.074904e+18       1\n",
       "2.061937e+18       1\n",
       "4.073835e+18       1\n",
       "6.846873e+18       1\n",
       "7.045130e+18       1\n",
       "Name: device_language, dtype: int64"
      ]
     },
     "execution_count": 7,
     "metadata": {},
     "output_type": "execute_result"
    }
   ],
   "source": [
    "installs['device_language'].value_counts()\n",
    "##los 3 idiomas donde mas instalan publicidad(los 3idiomas donde hay gente mas corki)"
   ]
  },
  {
   "cell_type": "code",
   "execution_count": 9,
   "metadata": {},
   "outputs": [
    {
     "data": {
      "text/plain": [
       "6333597102633388268    1820\n",
       "2970470518450881158    1592\n",
       "Name: device_countrycode, dtype: int64"
      ]
     },
     "execution_count": 9,
     "metadata": {},
     "output_type": "execute_result"
    }
   ],
   "source": [
    "installs['device_countrycode'].value_counts()\n",
    "##hay solo 2paises donde se instalan cosas"
   ]
  },
  {
   "cell_type": "code",
   "execution_count": 10,
   "metadata": {},
   "outputs": [
    {
     "data": {
      "text/plain": [
       "Index(['created', 'application_id', 'ref_type', 'ref_hash', 'click_hash',\n",
       "       'attributed', 'implicit', 'device_countrycode', 'device_brand',\n",
       "       'device_model', 'session_user_agent', 'user_agent', 'event_uuid',\n",
       "       'kind', 'wifi', 'trans_id', 'ip_address', 'device_language'],\n",
       "      dtype='object')"
      ]
     },
     "execution_count": 10,
     "metadata": {},
     "output_type": "execute_result"
    }
   ],
   "source": [
    "installs.columns"
   ]
  },
  {
   "cell_type": "code",
   "execution_count": 11,
   "metadata": {},
   "outputs": [
    {
     "data": {
      "text/plain": [
       "2019-03-06 22:39:46.350    1\n",
       "2019-03-09 15:24:03.123    1\n",
       "2019-03-09 02:54:37.321    1\n",
       "2019-03-12 20:53:25.480    1\n",
       "2019-03-12 04:22:01.796    1\n",
       "2019-03-08 11:45:00.343    1\n",
       "2019-03-09 00:25:07.673    1\n",
       "2019-03-12 07:52:48.332    1\n",
       "2019-03-06 15:08:21.164    1\n",
       "2019-03-07 19:58:07.147    1\n",
       "2019-03-05 14:53:05.826    1\n",
       "2019-03-05 15:20:54.098    1\n",
       "2019-03-13 14:19:51.217    1\n",
       "2019-03-10 18:45:13.646    1\n",
       "2019-03-11 18:28:05.791    1\n",
       "2019-03-12 09:59:41.435    1\n",
       "2019-03-11 21:45:49.655    1\n",
       "2019-03-07 01:35:31.943    1\n",
       "2019-03-08 02:33:08.648    1\n",
       "2019-03-08 19:59:21.025    1\n",
       "2019-03-09 04:51:26.802    1\n",
       "2019-03-13 17:21:38.087    1\n",
       "2019-03-09 19:32:02.330    1\n",
       "2019-03-12 16:32:44.021    1\n",
       "2019-03-06 19:12:15.749    1\n",
       "2019-03-12 16:27:30.018    1\n",
       "2019-03-05 01:17:56.315    1\n",
       "2019-03-13 07:24:01.615    1\n",
       "2019-03-11 00:16:53.170    1\n",
       "2019-03-09 11:13:01.181    1\n",
       "                          ..\n",
       "2019-03-05 12:08:20.353    1\n",
       "2019-03-08 14:05:24.466    1\n",
       "2019-03-12 20:30:52.626    1\n",
       "2019-03-08 04:48:29.786    1\n",
       "2019-03-05 12:53:18.045    1\n",
       "2019-03-13 12:32:11.733    1\n",
       "2019-03-07 18:50:05.999    1\n",
       "2019-03-06 01:39:09.470    1\n",
       "2019-03-06 01:47:17.501    1\n",
       "2019-03-05 13:24:37.556    1\n",
       "2019-03-13 13:05:27.982    1\n",
       "2019-03-08 18:47:18.015    1\n",
       "2019-03-12 16:40:43.679    1\n",
       "2019-03-12 14:31:55.688    1\n",
       "2019-03-10 18:47:46.163    1\n",
       "2019-03-10 00:53:50.152    1\n",
       "2019-03-13 03:19:51.171    1\n",
       "2019-03-07 21:14:06.135    1\n",
       "2019-03-07 00:12:23.033    1\n",
       "2019-03-13 15:40:04.793    1\n",
       "2019-03-08 00:10:34.938    1\n",
       "2019-03-06 16:44:52.970    1\n",
       "2019-03-13 17:45:03.694    1\n",
       "2019-03-11 15:38:30.830    1\n",
       "2019-03-12 21:18:43.623    1\n",
       "2019-03-12 13:03:11.414    1\n",
       "2019-03-05 22:23:29.894    1\n",
       "2019-03-13 15:32:31.888    1\n",
       "2019-03-08 23:05:30.233    1\n",
       "2019-03-12 17:51:49.767    1\n",
       "Name: created, Length: 3412, dtype: int64"
      ]
     },
     "execution_count": 11,
     "metadata": {},
     "output_type": "execute_result"
    }
   ],
   "source": [
    "installs['created'].value_counts()"
   ]
  },
  {
   "cell_type": "code",
   "execution_count": 13,
   "metadata": {},
   "outputs": [
    {
     "data": {
      "text/plain": [
       "created               3412\n",
       "application_id        3412\n",
       "ref_type              3412\n",
       "ref_hash              3412\n",
       "click_hash               0\n",
       "attributed            3412\n",
       "implicit              3412\n",
       "device_countrycode    3412\n",
       "device_brand          1047\n",
       "device_model          3411\n",
       "session_user_agent    3364\n",
       "user_agent            1729\n",
       "event_uuid             865\n",
       "kind                   865\n",
       "wifi                  1729\n",
       "trans_id                 6\n",
       "ip_address            3412\n",
       "device_language       3378\n",
       "dtype: int64"
      ]
     },
     "execution_count": 13,
     "metadata": {},
     "output_type": "execute_result"
    }
   ],
   "source": [
    "installs.count()"
   ]
  },
  {
   "cell_type": "code",
   "execution_count": null,
   "metadata": {},
   "outputs": [],
   "source": []
  }
 ],
 "metadata": {
  "kernelspec": {
   "display_name": "Python 3",
   "language": "python",
   "name": "python3"
  },
  "language_info": {
   "codemirror_mode": {
    "name": "ipython",
    "version": 3
   },
   "file_extension": ".py",
   "mimetype": "text/x-python",
   "name": "python",
   "nbconvert_exporter": "python",
   "pygments_lexer": "ipython3",
   "version": "3.7.0"
  }
 },
 "nbformat": 4,
 "nbformat_minor": 2
}
