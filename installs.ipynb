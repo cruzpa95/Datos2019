{
 "cells": [
  {
   "cell_type": "code",
   "execution_count": 1,
   "metadata": {},
   "outputs": [],
   "source": [
    "import pandas as pd"
   ]
  },
  {
   "cell_type": "code",
   "execution_count": 2,
   "metadata": {},
   "outputs": [],
   "source": [
    "installs = pd.read_csv(\"../data/installs.csv\", low_memory = False)"
   ]
  },
  {
   "cell_type": "code",
   "execution_count": 3,
   "metadata": {},
   "outputs": [
    {
     "data": {
      "text/plain": [
       "Index(['created', 'application_id', 'ref_type', 'ref_hash', 'click_hash',\n",
       "       'attributed', 'implicit', 'device_countrycode', 'device_brand',\n",
       "       'device_model', 'session_user_agent', 'user_agent', 'event_uuid',\n",
       "       'kind', 'wifi', 'trans_id', 'ip_address', 'device_language'],\n",
       "      dtype='object')"
      ]
     },
     "execution_count": 3,
     "metadata": {},
     "output_type": "execute_result"
    }
   ],
   "source": [
    "installs.columns"
   ]
  },
  {
   "cell_type": "code",
   "execution_count": 4,
   "metadata": {},
   "outputs": [
    {
     "data": {
      "text/plain": [
       "True     1377\n",
       "False     352\n",
       "Name: wifi, dtype: int64"
      ]
     },
     "execution_count": 4,
     "metadata": {},
     "output_type": "execute_result"
    }
   ],
   "source": [
    "installs['wifi'].value_counts()"
   ]
  },
  {
   "cell_type": "code",
   "execution_count": 5,
   "metadata": {
    "scrolled": true
   },
   "outputs": [
    {
     "data": {
      "text/plain": [
       "3.301378e+18    1484\n",
       "9.028383e+18     714\n",
       "4.621024e+18     632\n",
       "6.977049e+18     238\n",
       "4.077062e+17      70\n",
       "1.526421e+18      56\n",
       "4.060930e+18      48\n",
       "2.822843e+17      39\n",
       "6.035180e+18      24\n",
       "1.193279e+18      21\n",
       "6.535228e+18      10\n",
       "1.101539e+17       9\n",
       "3.177265e+18       5\n",
       "3.695787e+17       5\n",
       "3.095856e+18       4\n",
       "6.569908e+18       2\n",
       "5.846217e+18       2\n",
       "7.774316e+18       2\n",
       "4.594650e+18       2\n",
       "6.782349e+18       1\n",
       "5.061642e+18       1\n",
       "1.686906e+18       1\n",
       "5.794427e+17       1\n",
       "2.488366e+18       1\n",
       "3.544544e+18       1\n",
       "3.074904e+18       1\n",
       "2.061937e+18       1\n",
       "4.073835e+18       1\n",
       "6.846873e+18       1\n",
       "7.045130e+18       1\n",
       "Name: device_language, dtype: int64"
      ]
     },
     "execution_count": 5,
     "metadata": {},
     "output_type": "execute_result"
    }
   ],
   "source": [
    "installs['device_language'].value_counts()\n",
    "##los 3 idiomas donde mas instalan publicidad(los 3idiomas donde hay gente mas corki)"
   ]
  },
  {
   "cell_type": "code",
   "execution_count": 6,
   "metadata": {},
   "outputs": [
    {
     "data": {
      "text/plain": [
       "6333597102633388268    1820\n",
       "2970470518450881158    1592\n",
       "Name: device_countrycode, dtype: int64"
      ]
     },
     "execution_count": 6,
     "metadata": {},
     "output_type": "execute_result"
    }
   ],
   "source": [
    "installs['device_countrycode'].value_counts()\n",
    "##hay solo 2paises donde se instalan cosas"
   ]
  },
  {
   "cell_type": "code",
   "execution_count": 7,
   "metadata": {},
   "outputs": [
    {
     "data": {
      "text/plain": [
       "Index(['created', 'application_id', 'ref_type', 'ref_hash', 'click_hash',\n",
       "       'attributed', 'implicit', 'device_countrycode', 'device_brand',\n",
       "       'device_model', 'session_user_agent', 'user_agent', 'event_uuid',\n",
       "       'kind', 'wifi', 'trans_id', 'ip_address', 'device_language'],\n",
       "      dtype='object')"
      ]
     },
     "execution_count": 7,
     "metadata": {},
     "output_type": "execute_result"
    }
   ],
   "source": [
    "installs.columns"
   ]
  },
  {
   "cell_type": "code",
   "execution_count": 8,
   "metadata": {},
   "outputs": [
    {
     "data": {
      "text/plain": [
       "2019-03-08 06:58:18.818    1\n",
       "2019-03-10 02:55:01.385    1\n",
       "2019-03-13 00:35:16.761    1\n",
       "2019-03-07 12:35:33.455    1\n",
       "2019-03-12 21:19:49.161    1\n",
       "2019-03-08 18:46:30.448    1\n",
       "2019-03-10 18:07:44.765    1\n",
       "2019-03-13 01:33:49.479    1\n",
       "2019-03-07 00:04:35.949    1\n",
       "2019-03-08 21:42:54.760    1\n",
       "2019-03-13 19:32:49.002    1\n",
       "2019-03-13 23:24:18.347    1\n",
       "2019-03-11 11:40:11.305    1\n",
       "2019-03-05 22:32:36.473    1\n",
       "2019-03-09 15:43:19.401    1\n",
       "2019-03-06 23:39:29.983    1\n",
       "2019-03-09 17:11:00.173    1\n",
       "2019-03-08 01:23:45.992    1\n",
       "2019-03-10 08:59:22.233    1\n",
       "2019-03-12 14:39:29.129    1\n",
       "2019-03-12 01:43:06.739    1\n",
       "2019-03-05 10:15:00.747    1\n",
       "2019-03-13 18:37:37.768    1\n",
       "2019-03-12 21:49:48.610    1\n",
       "2019-03-13 18:42:57.790    1\n",
       "2019-03-12 20:16:34.651    1\n",
       "2019-03-06 14:03:21.611    1\n",
       "2019-03-10 15:39:25.806    1\n",
       "2019-03-06 16:51:20.423    1\n",
       "2019-03-10 22:46:06.356    1\n",
       "                          ..\n",
       "2019-03-05 10:02:00.417    1\n",
       "2019-03-07 12:54:09.060    1\n",
       "2019-03-10 22:41:40.742    1\n",
       "2019-03-12 21:25:14.680    1\n",
       "2019-03-05 14:41:20.635    1\n",
       "2019-03-07 17:27:44.656    1\n",
       "2019-03-09 18:28:32.198    1\n",
       "2019-03-09 16:08:19.939    1\n",
       "2019-03-11 12:41:00.379    1\n",
       "2019-03-10 22:34:18.142    1\n",
       "2019-03-08 22:45:00.345    1\n",
       "2019-03-07 20:41:57.971    1\n",
       "2019-03-08 16:27:30.867    1\n",
       "2019-03-06 17:12:20.279    1\n",
       "2019-03-10 20:31:32.968    1\n",
       "2019-03-05 20:37:49.347    1\n",
       "2019-03-07 16:38:40.850    1\n",
       "2019-03-08 01:09:34.029    1\n",
       "2019-03-05 16:08:00.403    1\n",
       "2019-03-11 22:43:11.741    1\n",
       "2019-03-13 14:21:05.622    1\n",
       "2019-03-10 14:54:44.027    1\n",
       "2019-03-09 17:06:30.391    1\n",
       "2019-03-12 10:42:14.725    1\n",
       "2019-03-09 19:32:49.836    1\n",
       "2019-03-07 01:35:31.943    1\n",
       "2019-03-11 12:09:18.313    1\n",
       "2019-03-11 02:25:59.029    1\n",
       "2019-03-08 01:21:39.412    1\n",
       "2019-03-08 19:23:35.443    1\n",
       "Name: created, Length: 3412, dtype: int64"
      ]
     },
     "execution_count": 8,
     "metadata": {},
     "output_type": "execute_result"
    }
   ],
   "source": [
    "installs['created'].value_counts()"
   ]
  },
  {
   "cell_type": "code",
   "execution_count": 9,
   "metadata": {},
   "outputs": [
    {
     "data": {
      "text/plain": [
       "created               3412\n",
       "application_id        3412\n",
       "ref_type              3412\n",
       "ref_hash              3412\n",
       "click_hash               0\n",
       "attributed            3412\n",
       "implicit              3412\n",
       "device_countrycode    3412\n",
       "device_brand          1047\n",
       "device_model          3411\n",
       "session_user_agent    3364\n",
       "user_agent            1729\n",
       "event_uuid             865\n",
       "kind                   865\n",
       "wifi                  1729\n",
       "trans_id                 6\n",
       "ip_address            3412\n",
       "device_language       3378\n",
       "dtype: int64"
      ]
     },
     "execution_count": 9,
     "metadata": {},
     "output_type": "execute_result"
    }
   ],
   "source": [
    "installs.count()"
   ]
  },
  {
   "cell_type": "code",
   "execution_count": null,
   "metadata": {},
   "outputs": [],
   "source": []
  },
  {
   "cell_type": "code",
   "execution_count": null,
   "metadata": {},
   "outputs": [],
   "source": []
  },
  {
   "cell_type": "code",
   "execution_count": null,
   "metadata": {},
   "outputs": [],
   "source": []
  },
  {
   "cell_type": "code",
   "execution_count": null,
   "metadata": {},
   "outputs": [],
   "source": []
  }
 ],
 "metadata": {
  "kernelspec": {
   "display_name": "Python 3",
   "language": "python",
   "name": "python3"
  },
  "language_info": {
   "codemirror_mode": {
    "name": "ipython",
    "version": 3
   },
   "file_extension": ".py",
   "mimetype": "text/x-python",
   "name": "python",
   "nbconvert_exporter": "python",
   "pygments_lexer": "ipython3",
   "version": "3.7.0"
  }
 },
 "nbformat": 4,
 "nbformat_minor": 2
}
