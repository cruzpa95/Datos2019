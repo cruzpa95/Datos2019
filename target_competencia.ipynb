{
 "cells": [
  {
   "cell_type": "code",
   "execution_count": 8,
   "metadata": {},
   "outputs": [],
   "source": [
    "import pandas as pd"
   ]
  },
  {
   "cell_type": "code",
   "execution_count": 9,
   "metadata": {},
   "outputs": [],
   "source": [
    "tc = pd.read_csv('../data/target_competencia.csv', low_memory=False)"
   ]
  },
  {
   "cell_type": "code",
   "execution_count": 14,
   "metadata": {},
   "outputs": [
    {
     "data": {
      "text/plain": [
       "Index(['index', 'ref_hash', 'obj_Sc', 'obj_St'], dtype='object')"
      ]
     },
     "execution_count": 14,
     "metadata": {},
     "output_type": "execute_result"
    }
   ],
   "source": [
    "tc.columns"
   ]
  },
  {
   "cell_type": "code",
   "execution_count": 15,
   "metadata": {},
   "outputs": [
    {
     "data": {
      "text/plain": [
       "3.260938e+18    1\n",
       "6.280044e+18    1\n",
       "4.243741e+18    1\n",
       "1.076912e+18    1\n",
       "1.673195e+18    1\n",
       "2.627120e+18    1\n",
       "6.393823e+18    1\n",
       "1.462271e+18    1\n",
       "8.381560e+18    1\n",
       "3.185910e+17    1\n",
       "8.092691e+18    1\n",
       "5.424728e+18    1\n",
       "5.733337e+18    1\n",
       "1.516466e+17    1\n",
       "3.083817e+18    1\n",
       "7.431880e+18    1\n",
       "7.666410e+18    1\n",
       "5.695773e+18    1\n",
       "3.614385e+18    1\n",
       "3.670689e+18    1\n",
       "4.362314e+18    1\n",
       "8.219344e+18    1\n",
       "2.937624e+18    1\n",
       "7.588034e+18    1\n",
       "4.485868e+18    1\n",
       "2.041281e+18    1\n",
       "1.623378e+18    1\n",
       "5.684603e+18    1\n",
       "1.639365e+18    1\n",
       "5.919426e+18    1\n",
       "               ..\n",
       "7.375597e+18    1\n",
       "2.707844e+18    1\n",
       "3.915595e+18    1\n",
       "4.676263e+18    1\n",
       "5.040063e+18    1\n",
       "4.973222e+18    1\n",
       "8.391086e+18    1\n",
       "1.378981e+17    1\n",
       "2.086835e+18    1\n",
       "2.753678e+18    1\n",
       "8.734896e+18    1\n",
       "2.585510e+18    1\n",
       "7.873181e+18    1\n",
       "8.610478e+18    1\n",
       "4.290155e+18    1\n",
       "8.379388e+18    1\n",
       "3.279646e+18    1\n",
       "2.096770e+18    1\n",
       "8.084703e+18    1\n",
       "6.213656e+18    1\n",
       "7.631138e+18    1\n",
       "4.832806e+18    1\n",
       "4.448126e+18    1\n",
       "2.829050e+18    1\n",
       "6.031307e+18    1\n",
       "2.490135e+18    1\n",
       "4.067678e+18    1\n",
       "2.530836e+18    1\n",
       "4.415206e+18    1\n",
       "3.850548e+18    1\n",
       "Name: ref_hash, Length: 235, dtype: int64"
      ]
     },
     "execution_count": 15,
     "metadata": {},
     "output_type": "execute_result"
    }
   ],
   "source": [
    "tc['ref_hash'].value_counts()"
   ]
  },
  {
   "cell_type": "code",
   "execution_count": null,
   "metadata": {},
   "outputs": [],
   "source": []
  }
 ],
 "metadata": {
  "kernelspec": {
   "display_name": "Python 3",
   "language": "python",
   "name": "python3"
  },
  "language_info": {
   "codemirror_mode": {
    "name": "ipython",
    "version": 3
   },
   "file_extension": ".py",
   "mimetype": "text/x-python",
   "name": "python",
   "nbconvert_exporter": "python",
   "pygments_lexer": "ipython3",
   "version": "3.7.0"
  }
 },
 "nbformat": 4,
 "nbformat_minor": 2
}
