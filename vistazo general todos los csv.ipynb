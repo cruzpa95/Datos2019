{
 "cells": [
  {
   "cell_type": "code",
   "execution_count": 2,
   "metadata": {},
   "outputs": [],
   "source": [
    "import pandas as pd"
   ]
  },
  {
   "cell_type": "code",
   "execution_count": 20,
   "metadata": {},
   "outputs": [],
   "source": [
    "auctions = pd.read_csv('../data/auctions.csv', low_memory=False)\n",
    "installs = pd.read_csv(\"../data/installs.csv\", low_memory = False)\n",
    "clicks = pd.read_csv('../data/clicks.csv', low_memory = False)\n",
    "events = pd.read_csv(\"../data/events.csv\", low_memory = False)\n"
   ]
  },
  {
   "cell_type": "code",
   "execution_count": 23,
   "metadata": {},
   "outputs": [
    {
     "data": {
      "text/plain": [
       "Index(['created', 'application_id', 'ref_type', 'ref_hash', 'click_hash',\n",
       "       'attributed', 'implicit', 'device_countrycode', 'device_brand',\n",
       "       'device_model', 'session_user_agent', 'user_agent', 'event_uuid',\n",
       "       'kind', 'wifi', 'trans_id', 'ip_address', 'device_language'],\n",
       "      dtype='object')"
      ]
     },
     "execution_count": 23,
     "metadata": {},
     "output_type": "execute_result"
    }
   ],
   "source": [
    "installs.columns"
   ]
  },
  {
   "cell_type": "code",
   "execution_count": 21,
   "metadata": {},
   "outputs": [
    {
     "data": {
      "text/plain": [
       "Index(['auction_type_id', 'country', 'date', 'device_id', 'platform',\n",
       "       'ref_type_id', 'source_id'],\n",
       "      dtype='object')"
      ]
     },
     "execution_count": 21,
     "metadata": {},
     "output_type": "execute_result"
    }
   ],
   "source": [
    "auctions.columns"
   ]
  },
  {
   "cell_type": "code",
   "execution_count": 25,
   "metadata": {},
   "outputs": [
    {
     "data": {
      "text/plain": [
       "Index(['advertiser_id', 'action_id', 'source_id', 'created', 'country_code',\n",
       "       'latitude', 'longitude', 'wifi_connection', 'carrier_id', 'trans_id',\n",
       "       'os_minor', 'agent_device', 'os_major', 'specs_brand', 'brand',\n",
       "       'timeToClick', 'touchX', 'touchY', 'ref_type', 'ref_hash'],\n",
       "      dtype='object')"
      ]
     },
     "execution_count": 25,
     "metadata": {},
     "output_type": "execute_result"
    }
   ],
   "source": [
    "clicks.columns"
   ]
  },
  {
   "cell_type": "code",
   "execution_count": 27,
   "metadata": {},
   "outputs": [
    {
     "data": {
      "text/plain": [
       "Index(['date', 'event_id', 'ref_type', 'ref_hash', 'application_id',\n",
       "       'attributed', 'device_countrycode', 'device_os_version', 'device_brand',\n",
       "       'device_model', 'device_city', 'session_user_agent', 'trans_id',\n",
       "       'user_agent', 'event_uuid', 'carrier', 'kind', 'device_os', 'wifi',\n",
       "       'connection_type', 'ip_address', 'device_language'],\n",
       "      dtype='object')"
      ]
     },
     "execution_count": 27,
     "metadata": {},
     "output_type": "execute_result"
    }
   ],
   "source": [
    "events.columns"
   ]
  },
  {
   "cell_type": "code",
   "execution_count": 87,
   "metadata": {
    "scrolled": true
   },
   "outputs": [
    {
     "data": {
      "text/plain": [
       "6.977049e+18    745898\n",
       "3.301378e+18    589865\n",
       "9.028383e+18    388832\n",
       "6.804428e+18    340624\n",
       "4.621024e+18    150143\n",
       "4.077062e+17     53277\n",
       "2.822843e+17     28294\n",
       "4.060930e+18     25943\n",
       "3.095856e+18     25635\n",
       "6.111820e+18     18314\n",
       "1.526421e+18     10181\n",
       "1.193279e+18      6968\n",
       "6.035180e+18      3681\n",
       "3.177265e+18      3077\n",
       "3.695787e+17      2622\n",
       "6.535228e+18      2201\n",
       "2.554251e+18      1465\n",
       "1.101539e+17       845\n",
       "5.649026e+18       740\n",
       "4.073835e+18       553\n",
       "5.061642e+18       441\n",
       "7.774316e+18       399\n",
       "3.788746e+18       395\n",
       "3.915023e+18       339\n",
       "1.515888e+18       335\n",
       "2.488366e+18       305\n",
       "4.594650e+18       305\n",
       "5.846217e+18       284\n",
       "8.149693e+18       233\n",
       "7.687656e+17       230\n",
       "                 ...  \n",
       "1.580566e+18         2\n",
       "5.487852e+18         2\n",
       "1.820903e+18         2\n",
       "5.794427e+17         2\n",
       "2.099144e+18         2\n",
       "3.086043e+18         2\n",
       "1.873502e+18         2\n",
       "6.344558e+18         2\n",
       "2.234227e+18         1\n",
       "2.255778e+18         1\n",
       "8.665658e+18         1\n",
       "5.100938e+18         1\n",
       "4.953653e+18         1\n",
       "5.398553e+18         1\n",
       "6.659399e+18         1\n",
       "6.261356e+18         1\n",
       "4.868943e+18         1\n",
       "7.505877e+18         1\n",
       "8.988833e+18         1\n",
       "9.072202e+17         1\n",
       "1.067925e+18         1\n",
       "8.801445e+18         1\n",
       "5.007535e+18         1\n",
       "6.232746e+18         1\n",
       "8.949678e+18         1\n",
       "3.870747e+18         1\n",
       "2.067660e+17         1\n",
       "2.186803e+18         1\n",
       "8.939758e+18         1\n",
       "7.427589e+18         1\n",
       "Name: device_language, Length: 186, dtype: int64"
      ]
     },
     "execution_count": 87,
     "metadata": {},
     "output_type": "execute_result"
    }
   ],
   "source": [
    "events['device_language'].value_counts()"
   ]
  },
  {
   "cell_type": "code",
   "execution_count": null,
   "metadata": {},
   "outputs": [],
   "source": [
    "df['country'].value_counts()"
   ]
  },
  {
   "cell_type": "code",
   "execution_count": 15,
   "metadata": {},
   "outputs": [
    {
     "data": {
      "text/plain": [
       "6333597102633388268    1820\n",
       "2970470518450881158    1592\n",
       "Name: device_countrycode, dtype: int64"
      ]
     },
     "execution_count": 15,
     "metadata": {},
     "output_type": "execute_result"
    }
   ],
   "source": [
    "installs['device_countrycode'].value_counts()"
   ]
  },
  {
   "cell_type": "code",
   "execution_count": 16,
   "metadata": {},
   "outputs": [],
   "source": []
  },
  {
   "cell_type": "code",
   "execution_count": null,
   "metadata": {},
   "outputs": [],
   "source": []
  }
 ],
 "metadata": {
  "kernelspec": {
   "display_name": "Python 3",
   "language": "python",
   "name": "python3"
  },
  "language_info": {
   "codemirror_mode": {
    "name": "ipython",
    "version": 3
   },
   "file_extension": ".py",
   "mimetype": "text/x-python",
   "name": "python",
   "nbconvert_exporter": "python",
   "pygments_lexer": "ipython3",
   "version": "3.7.0"
  }
 },
 "nbformat": 4,
 "nbformat_minor": 2
}
